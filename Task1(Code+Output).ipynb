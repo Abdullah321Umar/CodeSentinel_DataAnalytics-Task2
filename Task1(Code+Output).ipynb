{
 "cells": [
  {
   "cell_type": "code",
   "execution_count": 20,
   "id": "cedd914b-8618-4243-a5e5-9ab072784b56",
   "metadata": {},
   "outputs": [
    {
     "name": "stdout",
     "output_type": "stream",
     "text": [
      "Column Names:\n",
      "['Customer ID', 'Name', 'Address 1', 'Address 2', 'Address 3', 'Zip Code', 'Discount']\n",
      "\n",
      "\n",
      "Number of Rows: 10\n",
      "\n",
      "\n",
      "Summary Statistics:\n",
      "       Customer ID        Name       Address 1               Address 2  \\\n",
      "count           10          10              10                       6   \n",
      "unique          10          10              10                       4   \n",
      "top             C1  A C Brakes  14 Hilly Ridge  Tawara Industrial Park   \n",
      "freq             1           1               1                       3   \n",
      "mean           NaN         NaN             NaN                     NaN   \n",
      "std            NaN         NaN             NaN                     NaN   \n",
      "min            NaN         NaN             NaN                     NaN   \n",
      "25%            NaN         NaN             NaN                     NaN   \n",
      "50%            NaN         NaN             NaN                     NaN   \n",
      "75%            NaN         NaN             NaN                     NaN   \n",
      "max            NaN         NaN             NaN                     NaN   \n",
      "\n",
      "       Address 3     Zip Code   Discount  \n",
      "count         10    10.000000  10.000000  \n",
      "unique         6          NaN        NaN  \n",
      "top       Tawara          NaN        NaN  \n",
      "freq           3          NaN        NaN  \n",
      "mean         NaN  4308.600000   5.000000  \n",
      "std          NaN     1.505545   4.714045  \n",
      "min          NaN  4306.000000   0.000000  \n",
      "25%          NaN  4309.000000   0.000000  \n",
      "50%          NaN  4309.000000   5.000000  \n",
      "75%          NaN  4309.000000  10.000000  \n",
      "max          NaN  4311.000000  10.000000  \n"
     ]
    }
   ],
   "source": [
    "import pandas as pd\n",
    "\n",
    "# Load the DataSet\n",
    "df = pd.read_csv(\"C:/Users/Abdullah Umer/Desktop/Data Sentinel Internship/Task1/customers.csv\")\n",
    "\n",
    "# Print Column Names\n",
    "print(\"Column Names:\")\n",
    "print(df.columns.tolist())\n",
    "print(\"\\n\")\n",
    "\n",
    "# Print Number of Rows\n",
    "print(\"Number of Rows:\", len(df))\n",
    "print(\"\\n\")\n",
    "\n",
    "# Print Summary Statistics\n",
    "print(\"Summary Statistics:\")\n",
    "print(df.describe(include=\"all\"))"
   ]
  }
 ],
 "metadata": {
  "kernelspec": {
   "display_name": "Python [conda env:base] *",
   "language": "python",
   "name": "conda-base-py"
  },
  "language_info": {
   "codemirror_mode": {
    "name": "ipython",
    "version": 3
   },
   "file_extension": ".py",
   "mimetype": "text/x-python",
   "name": "python",
   "nbconvert_exporter": "python",
   "pygments_lexer": "ipython3",
   "version": "3.13.5"
  }
 },
 "nbformat": 4,
 "nbformat_minor": 5
}

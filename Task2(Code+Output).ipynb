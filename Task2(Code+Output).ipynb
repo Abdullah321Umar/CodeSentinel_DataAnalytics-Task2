{
 "cells": [
  {
   "cell_type": "code",
   "execution_count": 21,
   "id": "e8af29c3-c377-49b5-bbd3-4aaaafa45f6c",
   "metadata": {},
   "outputs": [
    {
     "name": "stdout",
     "output_type": "stream",
     "text": [
      "<class 'pandas.core.frame.DataFrame'>\n",
      "RangeIndex: 418 entries, 0 to 417\n",
      "Data columns (total 12 columns):\n",
      " #   Column       Non-Null Count  Dtype  \n",
      "---  ------       --------------  -----  \n",
      " 0   PassengerId  418 non-null    int64  \n",
      " 1   Survived     418 non-null    int64  \n",
      " 2   Pclass       418 non-null    int64  \n",
      " 3   Name         418 non-null    object \n",
      " 4   Age          418 non-null    float64\n",
      " 5   SibSp        418 non-null    int64  \n",
      " 6   Parch        418 non-null    int64  \n",
      " 7   Ticket       418 non-null    object \n",
      " 8   Fare         418 non-null    float64\n",
      " 9   Sex_male     418 non-null    bool   \n",
      " 10  Embarked_Q   418 non-null    bool   \n",
      " 11  Embarked_S   418 non-null    bool   \n",
      "dtypes: bool(3), float64(2), int64(5), object(2)\n",
      "memory usage: 30.7+ KB\n",
      "None\n",
      "   PassengerId  Survived  Pclass  \\\n",
      "0          892         0       3   \n",
      "1          893         1       3   \n",
      "2          894         0       2   \n",
      "3          895         0       3   \n",
      "4          896         1       3   \n",
      "\n",
      "                                           Name   Age  SibSp  Parch   Ticket  \\\n",
      "0                              Kelly, Mr. James  34.5      0      0   330911   \n",
      "1              Wilkes, Mrs. James (Ellen Needs)  47.0      1      0   363272   \n",
      "2                     Myles, Mr. Thomas Francis  62.0      0      0   240276   \n",
      "3                              Wirz, Mr. Albert  27.0      0      0   315154   \n",
      "4  Hirvonen, Mrs. Alexander (Helga E Lindqvist)  22.0      1      1  3101298   \n",
      "\n",
      "      Fare  Sex_male  Embarked_Q  Embarked_S  \n",
      "0   7.8292      True        True       False  \n",
      "1   7.0000     False       False        True  \n",
      "2   9.6875      True        True       False  \n",
      "3   8.6625      True       False        True  \n",
      "4  12.2875     False       False        True  \n"
     ]
    }
   ],
   "source": [
    "import numpy as np\n",
    "import pandas as pd\n",
    "\n",
    "# Load the DataSet\n",
    "df = pd.read_csv(\"C:/Users/Abdullah Umer/Desktop/Data Sentinel Internship/Task2/Titanic.csv\")\n",
    "\n",
    "# Handle missing values safely\n",
    "df['Age'] = df['Age'].fillna(df['Age'].median())   \n",
    "df['Fare'] = df['Fare'].fillna(df['Fare'].median()) \n",
    "df = df.drop(columns=['Cabin'])                     \n",
    "\n",
    "# Convert categorical columns into numeric using One-Hot Encoding\n",
    "df = pd.get_dummies(df, columns=['Sex', 'Embarked'], drop_first=True)\n",
    "\n",
    "# Show dataset info and preview\n",
    "print(df.info())\n",
    "print(df.head())"
   ]
  },
  {
   "cell_type": "code",
   "execution_count": null,
   "id": "25df5d7a-e653-45c9-95af-8672f1c887fd",
   "metadata": {},
   "outputs": [],
   "source": []
  }
 ],
 "metadata": {
  "kernelspec": {
   "display_name": "Python [conda env:base] *",
   "language": "python",
   "name": "conda-base-py"
  },
  "language_info": {
   "codemirror_mode": {
    "name": "ipython",
    "version": 3
   },
   "file_extension": ".py",
   "mimetype": "text/x-python",
   "name": "python",
   "nbconvert_exporter": "python",
   "pygments_lexer": "ipython3",
   "version": "3.13.5"
  }
 },
 "nbformat": 4,
 "nbformat_minor": 5
}
